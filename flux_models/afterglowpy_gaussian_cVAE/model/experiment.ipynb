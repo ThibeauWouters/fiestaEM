{
 "cells": [
  {
   "cell_type": "code",
   "execution_count": 1,
   "metadata": {},
   "outputs": [],
   "source": [
    "import dill\n",
    "import numpy as np\n",
    "import inspect"
   ]
  },
  {
   "cell_type": "code",
   "execution_count": 3,
   "metadata": {},
   "outputs": [],
   "source": [
    "with open(\"gaussian_metadata.pkl\", \"rb\") as f:\n",
    "    metadata = dill.load(f)"
   ]
  },
  {
   "cell_type": "code",
   "execution_count": 4,
   "metadata": {},
   "outputs": [
    {
     "data": {
      "text/plain": [
       "[('__call__',\n",
       "  <bound method Scaler.__call__ of <fiesta.scalers.ImageScaler object at 0x7f3fd489fad0>>),\n",
       " ('__class__', fiesta.scalers.ImageScaler),\n",
       " ('__delattr__',\n",
       "  <method-wrapper '__delattr__' of ImageScaler object at 0x7f3fd489fad0>),\n",
       " ('__dict__',\n",
       "  {'transform': functools.partial(<bound method ImageScaler._transform of <fiesta.scalers.ImageScaler object at 0x7f3fd489fad0>>, upscale=(239, 148), downscale=array([32, 25])),\n",
       "   'inverse_transform': functools.partial(<bound method ImageScaler._inverse_transform of <fiesta.scalers.ImageScaler object at 0x7f3fd489fad0>>, upscale=(239, 148), downscale=array([32, 25]))}),\n",
       " ('__dir__', <function ImageScaler.__dir__()>),\n",
       " ('__doc__',\n",
       "  '\\n    Scaler that down samples 2D arrays of shape upscale to downscale and the inverse.\\n    Note that the methods always assume that the input array x is flattened along the last axis, i.e. it will reshape the input x.reshape(-1, *upscale). \\n    The down sampled image is scaled once more with a scaler object.\\n    Attention, this object has no proper fit method, because of its application in FluxTrainerCVAE and the way the data is loaded there to avoid memory issues.\\n    '),\n",
       " ('__eq__', <method-wrapper '__eq__' of ImageScaler object at 0x7f3fd489fad0>),\n",
       " ('__format__', <function ImageScaler.__format__(format_spec, /)>),\n",
       " ('__ge__', <method-wrapper '__ge__' of ImageScaler object at 0x7f3fd489fad0>),\n",
       " ('__getattribute__',\n",
       "  <method-wrapper '__getattribute__' of ImageScaler object at 0x7f3fd489fad0>),\n",
       " ('__getstate__', <function ImageScaler.__getstate__()>),\n",
       " ('__gt__', <method-wrapper '__gt__' of ImageScaler object at 0x7f3fd489fad0>),\n",
       " ('__hash__',\n",
       "  <method-wrapper '__hash__' of ImageScaler object at 0x7f3fd489fad0>),\n",
       " ('__init__',\n",
       "  <bound method ImageScaler.__init__ of <fiesta.scalers.ImageScaler object at 0x7f3fd489fad0>>),\n",
       " ('__init_subclass__', <function ImageScaler.__init_subclass__>),\n",
       " ('__le__', <method-wrapper '__le__' of ImageScaler object at 0x7f3fd489fad0>),\n",
       " ('__lt__', <method-wrapper '__lt__' of ImageScaler object at 0x7f3fd489fad0>),\n",
       " ('__module__', 'fiesta.scalers'),\n",
       " ('__ne__', <method-wrapper '__ne__' of ImageScaler object at 0x7f3fd489fad0>),\n",
       " ('__new__', <function object.__new__(*args, **kwargs)>),\n",
       " ('__reduce__', <function ImageScaler.__reduce__()>),\n",
       " ('__reduce_ex__', <function ImageScaler.__reduce_ex__(protocol, /)>),\n",
       " ('__repr__',\n",
       "  <method-wrapper '__repr__' of ImageScaler object at 0x7f3fd489fad0>),\n",
       " ('__setattr__',\n",
       "  <method-wrapper '__setattr__' of ImageScaler object at 0x7f3fd489fad0>),\n",
       " ('__sizeof__', <function ImageScaler.__sizeof__()>),\n",
       " ('__str__',\n",
       "  <method-wrapper '__str__' of ImageScaler object at 0x7f3fd489fad0>),\n",
       " ('__subclasshook__', <function ImageScaler.__subclasshook__>),\n",
       " ('__weakref__', None),\n",
       " ('_inverse_transform',\n",
       "  <bound method ImageScaler._inverse_transform of <fiesta.scalers.ImageScaler object at 0x7f3fd489fad0>>),\n",
       " ('_transform',\n",
       "  <bound method ImageScaler._transform of <fiesta.scalers.ImageScaler object at 0x7f3fd489fad0>>),\n",
       " ('fit',\n",
       "  <bound method ImageScaler.fit of <fiesta.scalers.ImageScaler object at 0x7f3fd489fad0>>),\n",
       " ('fit_transform',\n",
       "  <bound method Scaler.fit_transform of <fiesta.scalers.ImageScaler object at 0x7f3fd489fad0>>),\n",
       " ('fix_edges',\n",
       "  <function fiesta.scalers.ImageScaler.fix_edges(yp: jax.Array) -> jax.Array>),\n",
       " ('inverse_transform',\n",
       "  functools.partial(<bound method ImageScaler._inverse_transform of <fiesta.scalers.ImageScaler object at 0x7f3fd489fad0>>, upscale=(239, 148), downscale=array([32, 25]))),\n",
       " ('transform',\n",
       "  functools.partial(<bound method ImageScaler._transform of <fiesta.scalers.ImageScaler object at 0x7f3fd489fad0>>, upscale=(239, 148), downscale=array([32, 25])))]"
      ]
     },
     "execution_count": 4,
     "metadata": {},
     "output_type": "execute_result"
    }
   ],
   "source": [
    "y_scaler = metadata[\"y_scaler\"]\n",
    "inspect.getmembers(y_scaler.scalers[0])"
   ]
  },
  {
   "cell_type": "code",
   "execution_count": 7,
   "metadata": {},
   "outputs": [
    {
     "ename": "TypeError",
     "evalue": "module, class, method, function, traceback, frame, or code object was expected, got partial",
     "output_type": "error",
     "traceback": [
      "\u001b[0;31m---------------------------------------------------------------------------\u001b[0m",
      "\u001b[0;31mTypeError\u001b[0m                                 Traceback (most recent call last)",
      "Cell \u001b[0;32mIn[7], line 1\u001b[0m\n\u001b[0;32m----> 1\u001b[0m \u001b[43minspect\u001b[49m\u001b[38;5;241;43m.\u001b[39;49m\u001b[43mgetfile\u001b[49m\u001b[43m(\u001b[49m\u001b[43mmetadata\u001b[49m\u001b[43m[\u001b[49m\u001b[38;5;124;43m\"\u001b[39;49m\u001b[38;5;124;43my_scaler\u001b[39;49m\u001b[38;5;124;43m\"\u001b[39;49m\u001b[43m]\u001b[49m\u001b[38;5;241;43m.\u001b[39;49m\u001b[43mscalers\u001b[49m\u001b[43m[\u001b[49m\u001b[38;5;241;43m0\u001b[39;49m\u001b[43m]\u001b[49m\u001b[38;5;241;43m.\u001b[39;49m\u001b[43minverse_transform\u001b[49m\u001b[43m)\u001b[49m\n",
      "File \u001b[0;32m~/miniconda3/envs/fiesta/lib/python3.11/inspect.py:916\u001b[0m, in \u001b[0;36mgetfile\u001b[0;34m(object)\u001b[0m\n\u001b[1;32m    914\u001b[0m \u001b[38;5;28;01mif\u001b[39;00m iscode(\u001b[38;5;28mobject\u001b[39m):\n\u001b[1;32m    915\u001b[0m     \u001b[38;5;28;01mreturn\u001b[39;00m \u001b[38;5;28mobject\u001b[39m\u001b[38;5;241m.\u001b[39mco_filename\n\u001b[0;32m--> 916\u001b[0m \u001b[38;5;28;01mraise\u001b[39;00m \u001b[38;5;167;01mTypeError\u001b[39;00m(\u001b[38;5;124m'\u001b[39m\u001b[38;5;124mmodule, class, method, function, traceback, frame, or \u001b[39m\u001b[38;5;124m'\u001b[39m\n\u001b[1;32m    917\u001b[0m                 \u001b[38;5;124m'\u001b[39m\u001b[38;5;124mcode object was expected, got \u001b[39m\u001b[38;5;132;01m{}\u001b[39;00m\u001b[38;5;124m'\u001b[39m\u001b[38;5;241m.\u001b[39mformat(\n\u001b[1;32m    918\u001b[0m                 \u001b[38;5;28mtype\u001b[39m(\u001b[38;5;28mobject\u001b[39m)\u001b[38;5;241m.\u001b[39m\u001b[38;5;18m__name__\u001b[39m))\n",
      "\u001b[0;31mTypeError\u001b[0m: module, class, method, function, traceback, frame, or code object was expected, got partial"
     ]
    }
   ],
   "source": [
    "inspect.getfile(metadata[\"y_scaler\"].scalers[0].inverse_transform)"
   ]
  },
  {
   "cell_type": "code",
   "execution_count": 12,
   "metadata": {},
   "outputs": [
    {
     "data": {
      "text/plain": [
       "(1, 239, 148)"
      ]
     },
     "execution_count": 12,
     "metadata": {},
     "output_type": "execute_result"
    }
   ],
   "source": [
    "y_scaler.inverse_transform(np.zeros(32*25)).shape"
   ]
  },
  {
   "cell_type": "code",
   "execution_count": 16,
   "metadata": {},
   "outputs": [
    {
     "data": {
      "text/plain": [
       "functools.partial(<bound method ImageScaler._transform of <fiesta.scalers.ImageScaler object at 0x7f3fd489fad0>>, upscale=(239, 148), downscale=array([32, 25]))"
      ]
     },
     "execution_count": 16,
     "metadata": {},
     "output_type": "execute_result"
    }
   ],
   "source": [
    "y_scaler.scalers[0].transform"
   ]
  },
  {
   "cell_type": "code",
   "execution_count": null,
   "metadata": {},
   "outputs": [],
   "source": []
  }
 ],
 "metadata": {
  "kernelspec": {
   "display_name": "fiesta",
   "language": "python",
   "name": "python3"
  },
  "language_info": {
   "codemirror_mode": {
    "name": "ipython",
    "version": 3
   },
   "file_extension": ".py",
   "mimetype": "text/x-python",
   "name": "python",
   "nbconvert_exporter": "python",
   "pygments_lexer": "ipython3",
   "version": "3.11.9"
  }
 },
 "nbformat": 4,
 "nbformat_minor": 2
}
